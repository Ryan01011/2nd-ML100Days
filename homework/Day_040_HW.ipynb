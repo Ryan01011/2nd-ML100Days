{
 "cells": [
  {
   "cell_type": "markdown",
   "metadata": {},
   "source": [
    "## [作業重點]\n",
    "使用 Sklearn 中的 Lasso, Ridge 模型，來訓練各種資料集，務必了解送進去模型訓練的**資料型態**為何，也請了解模型中各項參數的意義。\n",
    "\n",
    "機器學習的模型非常多種，但要訓練的資料多半有固定的格式，確保你了解訓練資料的格式為何，這樣在應用新模型時，就能夠最快的上手開始訓練！"
   ]
  },
  {
   "cell_type": "markdown",
   "metadata": {},
   "source": [
    "## 練習時間\n",
    "試著使用 sklearn datasets 的其他資料集 (boston, ...)，來訓練自己的線性迴歸模型，並加上適當的正則話來觀察訓練情形。"
   ]
  },
  {
   "cell_type": "code",
   "execution_count": 1,
   "metadata": {},
   "outputs": [],
   "source": [
    "import numpy as np\n",
    "import matplotlib.pyplot as plt\n",
    "from sklearn import datasets, linear_model\n",
    "from sklearn.model_selection import train_test_split\n",
    "from sklearn.metrics import mean_squared_error, r2_score\n",
    "import warnings\n",
    "warnings.filterwarnings('ignore')"
   ]
  },
  {
   "cell_type": "code",
   "execution_count": 2,
   "metadata": {},
   "outputs": [],
   "source": [
    "boston = datasets.load_boston()\n",
    "x_train, x_test, y_train, y_test = train_test_split(boston.data, boston.target, test_size=0.1, random_state=4)\n",
    "regr = linear_model.LinearRegression()\n",
    "regr.fit(x_train, y_train)\n",
    "y_pred = regr.predict(x_test)"
   ]
  },
  {
   "cell_type": "code",
   "execution_count": 3,
   "metadata": {},
   "outputs": [
    {
     "name": "stdout",
     "output_type": "stream",
     "text": [
      "Coefficients [-1.25856659e-01  4.84257396e-02  1.84085281e-02  3.08509569e+00\n",
      " -1.73277018e+01  3.61674713e+00  2.19181853e-03 -1.49361132e+00\n",
      "  3.19979200e-01 -1.27294649e-02 -9.27469086e-01  9.50912468e-03\n",
      " -5.33592471e-01]\n"
     ]
    }
   ],
   "source": [
    "print('Coefficients', regr.coef_)"
   ]
  },
  {
   "cell_type": "code",
   "execution_count": 4,
   "metadata": {},
   "outputs": [
    {
     "name": "stdout",
     "output_type": "stream",
     "text": [
      "Mean sqaured error: 17.04\n"
     ]
    }
   ],
   "source": [
    "print('Mean sqaured error: %.2f'\n",
    "      % mean_squared_error(y_test, y_pred))"
   ]
  },
  {
   "cell_type": "markdown",
   "metadata": {},
   "source": [
    "Lasso Regression"
   ]
  },
  {
   "cell_type": "code",
   "execution_count": 5,
   "metadata": {},
   "outputs": [],
   "source": [
    "x_train, x_test, y_train, y_test = train_test_split(boston.data, boston.target, test_size=0.1, random_state=4)\n",
    "lasso_0 = linear_model.Lasso(alpha=1.0)\n",
    "lasso_0.fit(x_train, y_train)\n",
    "y_pred_10 = lasso_0.predict(x_test)"
   ]
  },
  {
   "cell_type": "code",
   "execution_count": 6,
   "metadata": {},
   "outputs": [
    {
     "name": "stdout",
     "output_type": "stream",
     "text": [
      "Coefficients [-0.07256057  0.04967103 -0.          0.         -0.          0.80886056\n",
      "  0.02328171 -0.68444051  0.26862528 -0.01526566 -0.71692899  0.00828412\n",
      " -0.77123108]\n"
     ]
    }
   ],
   "source": [
    "print('Coefficients', lasso_0.coef_)"
   ]
  },
  {
   "cell_type": "code",
   "execution_count": 7,
   "metadata": {},
   "outputs": [
    {
     "name": "stdout",
     "output_type": "stream",
     "text": [
      "Mean sqaured error: 23.24\n"
     ]
    }
   ],
   "source": [
    "print('Mean sqaured error: %.2f'\n",
    "      % mean_squared_error(y_test, y_pred_10))"
   ]
  },
  {
   "cell_type": "code",
   "execution_count": 8,
   "metadata": {},
   "outputs": [],
   "source": [
    "x_train, x_test, y_train, y_test = train_test_split(boston.data, boston.target, test_size=0.1, random_state=4)\n",
    "lasso_1 = linear_model.Lasso(alpha=0.1)\n",
    "lasso_1.fit(x_train, y_train)\n",
    "y_pred_11 = lasso_1.predict(x_test)"
   ]
  },
  {
   "cell_type": "code",
   "execution_count": 9,
   "metadata": {},
   "outputs": [
    {
     "name": "stdout",
     "output_type": "stream",
     "text": [
      "Coefficients [-0.11567831  0.05152311 -0.03346275  1.2230427  -0.          3.53216363\n",
      " -0.00922692 -1.19460642  0.28775344 -0.01473748 -0.75732817  0.01037228\n",
      " -0.58007751]\n"
     ]
    }
   ],
   "source": [
    "print('Coefficients', lasso_1.coef_)"
   ]
  },
  {
   "cell_type": "code",
   "execution_count": 10,
   "metadata": {},
   "outputs": [
    {
     "name": "stdout",
     "output_type": "stream",
     "text": [
      "Mean sqaured error: 18.19\n"
     ]
    }
   ],
   "source": [
    "print('Mean sqaured error: %.2f'\n",
    "      % mean_squared_error(y_test, y_pred_11))"
   ]
  },
  {
   "cell_type": "markdown",
   "metadata": {},
   "source": [
    "Ridge Regression"
   ]
  },
  {
   "cell_type": "code",
   "execution_count": 11,
   "metadata": {},
   "outputs": [],
   "source": [
    "x_train, x_test, y_train, y_test = train_test_split(boston.data, boston.target, test_size=0.1, random_state=4)\n",
    "ridge_0 = linear_model.Ridge(alpha=1.0)\n",
    "ridge_0.fit(x_train, y_train)\n",
    "y_pred_20 = ridge_0.predict(x_test)"
   ]
  },
  {
   "cell_type": "code",
   "execution_count": 12,
   "metadata": {},
   "outputs": [
    {
     "name": "stdout",
     "output_type": "stream",
     "text": [
      "Coefficients [-1.22488037e-01  4.95483049e-02 -1.15839833e-02  2.89071820e+00\n",
      " -1.00402895e+01  3.66674306e+00 -4.43653915e-03 -1.38990862e+00\n",
      "  3.02286292e-01 -1.32259798e-02 -8.52141794e-01  9.86708353e-03\n",
      " -5.43681130e-01]\n"
     ]
    }
   ],
   "source": [
    "print('Coefficients', ridge_0.coef_)"
   ]
  },
  {
   "cell_type": "code",
   "execution_count": 13,
   "metadata": {},
   "outputs": [
    {
     "name": "stdout",
     "output_type": "stream",
     "text": [
      "Mean sqaured error: 17.35\n"
     ]
    }
   ],
   "source": [
    "print('Mean sqaured error: %.2f'\n",
    "      % mean_squared_error(y_test, y_pred_20))"
   ]
  },
  {
   "cell_type": "code",
   "execution_count": 14,
   "metadata": {},
   "outputs": [],
   "source": [
    "x_train, x_test, y_train, y_test = train_test_split(boston.data, boston.target, test_size=0.1, random_state=4)\n",
    "ridge_1 = linear_model.Ridge(alpha=0.1)\n",
    "ridge_1.fit(x_train, y_train)\n",
    "y_pred_21 = ridge_1.predict(x_test)"
   ]
  },
  {
   "cell_type": "code",
   "execution_count": 15,
   "metadata": {},
   "outputs": [
    {
     "name": "stdout",
     "output_type": "stream",
     "text": [
      "Coefficients [-1.25305527e-01  4.85968956e-02  1.35490467e-02  3.05965839e+00\n",
      " -1.61558736e+01  3.62646355e+00  1.10808781e-03 -1.47693015e+00\n",
      "  3.17043498e-01 -1.28048402e-02 -9.15220623e-01  9.56698213e-03\n",
      " -5.35070934e-01]\n"
     ]
    }
   ],
   "source": [
    "print('Coefficients', ridge_1.coef_)"
   ]
  },
  {
   "cell_type": "code",
   "execution_count": 16,
   "metadata": {},
   "outputs": [
    {
     "name": "stdout",
     "output_type": "stream",
     "text": [
      "Mean sqaured error: 17.07\n"
     ]
    }
   ],
   "source": [
    "print('Mean sqaured error: %.2f'\n",
    "      % mean_squared_error(y_test, y_pred_21))"
   ]
  },
  {
   "cell_type": "code",
   "execution_count": null,
   "metadata": {},
   "outputs": [],
   "source": []
  }
 ],
 "metadata": {
  "kernelspec": {
   "display_name": "Python 3",
   "language": "python",
   "name": "python3"
  },
  "language_info": {
   "codemirror_mode": {
    "name": "ipython",
    "version": 3
   },
   "file_extension": ".py",
   "mimetype": "text/x-python",
   "name": "python",
   "nbconvert_exporter": "python",
   "pygments_lexer": "ipython3",
   "version": "3.7.3"
  }
 },
 "nbformat": 4,
 "nbformat_minor": 2
}
